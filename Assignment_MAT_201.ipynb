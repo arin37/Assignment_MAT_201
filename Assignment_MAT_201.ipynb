{
 "cells": [
  {
   "cell_type": "markdown",
   "metadata": {},
   "source": [
    "# Write a function called rectangle that takes two integers m and n as arguments and prints out an m × n box consisting of asterisks."
   ]
  },
  {
   "cell_type": "code",
   "execution_count": 5,
   "metadata": {},
   "outputs": [
    {
     "name": "stdout",
     "output_type": "stream",
     "text": [
      "Enter the value of m: 4\n",
      "Enter the value of n: 8\n",
      "********\n",
      "********\n",
      "********\n",
      "********\n"
     ]
    }
   ],
   "source": [
    "def rectangle(m,n):\n",
    "    i = 0\n",
    "    while i < m: \n",
    "        print '*' * n  #it prints * for n times \n",
    "        i = i + 1\n",
    "def main():\n",
    "    m = input ('Enter the value of m: ')\n",
    "    n = input ('Enter the value of n: ')\n",
    "    rectangle(m,n)  \n",
    "main()  "
   ]
  },
  {
   "cell_type": "markdown",
   "metadata": {},
   "source": [
    "# Write a function called add_excitement that takes a list of strings and adds an exclamation point ( ! ) to the end of each string in the list. The program should modify the original list and not return anything."
   ]
  },
  {
   "cell_type": "code",
   "execution_count": 24,
   "metadata": {},
   "outputs": [
    {
     "name": "stdout",
     "output_type": "stream",
     "text": [
      "Enter the list: I am a CSE student.I love python.\n",
      "Modifing list:  I!am!a!CSE!student!I!love!python!\n"
     ]
    }
   ],
   "source": [
    "import array  #using array operations\n",
    "def add_excitement(list):\n",
    "    m = []  \n",
    "    m = [] \n",
    "    m = list.replace(\" \", \"!\") #it replaced all ' '(space) by '!' and store the replaced string in 'm'\n",
    "    m1 = m.replace(\".\", \"!\")  #it replaced all '.'(fullstop) by '!' and store the replaced string in 'm1'\n",
    "    list = m1 \n",
    "    print 'Modifing list: ', list \n",
    "def main():\n",
    "    list = raw_input ('Enter the list: ')\n",
    "    add_excitement(list)  \n",
    "main() "
   ]
  },
  {
   "cell_type": "markdown",
   "metadata": {},
   "source": [
    "# Write the same function except that it should not modify the original list and should instead return a new list."
   ]
  },
  {
   "cell_type": "code",
   "execution_count": 23,
   "metadata": {},
   "outputs": [
    {
     "name": "stdout",
     "output_type": "stream",
     "text": [
      "Enter the list: I am a CSE student.I love python.\n",
      "Old list:  I am a CSE student.I love python.\n",
      "New list:  I!am!a!CSE!student!I!love!python!\n"
     ]
    }
   ],
   "source": [
    "import array  #using array operations\n",
    "m = []  \n",
    "m1 = []  \n",
    "def add_excitement(list):\n",
    "    m = list.replace(\" \", \"!\")  #it replaced all ' ' by '!' and store the replaced string in 'm'\n",
    "    m1 = m.replace(\".\", \"!\")  #it replaced all '.' by '!' and store the replaced string in 'm1'\n",
    "    return m1 #returning m1(new list)\n",
    "def main():\n",
    "    list = raw_input ('Enter the list: ')\n",
    "    m = add_excitement(list)\n",
    "    print 'Old list: ', list\n",
    "    print 'New list: ', m\n",
    "main()"
   ]
  },
  {
   "cell_type": "markdown",
   "metadata": {},
   "source": [
    "# The digital root of a number n is obtained as follows: Add up the digits n to get a new number. Add up the digits of that to get another new number. Keep doing this until you get a number that has only one digit. That number is the digital root. For example, if n = 45893 , we add up the digits to get 4 + 5 + 8 + 9 + 3 = 29 . We then add up the digits of 29 to get 2 + 9 = 11 . We then add up the digits of 11 to get 1 + 1 = 2 . Since 2 has only one digit, 2 is our digital root. Write a function that returns the digital root of an integer n . [Note: there is a shortcut, where the digital root is equal to n mod 9, but do not use that here.]"
   ]
  },
  {
   "cell_type": "code",
   "execution_count": 22,
   "metadata": {},
   "outputs": [
    {
     "name": "stdout",
     "output_type": "stream",
     "text": [
      "Enter a number: 45893\n",
      "Digital root is  2\n"
     ]
    }
   ],
   "source": [
    "def digital(n):\n",
    "        while n >= 10:\n",
    "            sum = 0\n",
    "            while n / 10 != 0 :  \n",
    "                sum = n % 10 + sum  #adding remainders \n",
    "                n = n / 10  \n",
    "            sum = sum + n  #after breaking the loop it add the quotient with the sum of remainders \n",
    "            n = sum  \n",
    "        return n  \n",
    "def main():\n",
    "    n = input ('Enter a number: ')\n",
    "    root = digital(n)  \n",
    "    print 'Digital root is ', root  \n",
    "main()  "
   ]
  },
  {
   "cell_type": "markdown",
   "metadata": {},
   "source": [
    "# Write a function that takes an integer n and returns a random integer with exactly n digits. For instance, if n is 3, then 125 and 593 would be valid return values, but 093 would not because that is really 93, which is a two-digit number."
   ]
  },
  {
   "cell_type": "code",
   "execution_count": 21,
   "metadata": {},
   "outputs": [
    {
     "name": "stdout",
     "output_type": "stream",
     "text": [
      "Enter a number: 5\n",
      "The number is  15625\n"
     ]
    }
   ],
   "source": [
    "def digit(n):\n",
    "    mult = 1 \n",
    "    mult1 = 0\n",
    "    count = 0\n",
    "    while count != n - 1: \n",
    "        count = 0 \n",
    "        mult = mult * n  #multiplying n with mult which increasing mult to a number which has n number of digit   \n",
    "        mult1 = mult \n",
    "        while mult1 / 10 != 0:\n",
    "            mult1 = mult1 / 10\n",
    "            count = count + 1 #it count how many it can divide until the quotient become 0\n",
    "    return mult\n",
    "        \n",
    "def main():\n",
    "    n = input ('Enter a number: ')\n",
    "    valid = digit(n) \n",
    "    print 'The number is ', valid\n",
    "main()"
   ]
  },
  {
   "cell_type": "markdown",
   "metadata": {},
   "source": [
    "# Write a function called matches that takes two strings as arguments and returns how many matches there are between the strings. A match is where the two strings have the same character at the same index. For instance, ' python ' and ' path ' match in the first, third, and fourth characters, so the function should return 3."
   ]
  },
  {
   "cell_type": "code",
   "execution_count": 20,
   "metadata": {},
   "outputs": [
    {
     "name": "stdout",
     "output_type": "stream",
     "text": [
      "First string: python\n",
      "second string: path\n",
      "3\n"
     ]
    }
   ],
   "source": [
    "def matches(st1,st2):\n",
    "    i = 0\n",
    "    c = 0\n",
    "    if len(st1) < len(st2): \n",
    "        while i < len(st1): \n",
    "            if st1[i] == st2[i]: \n",
    "                c = c + 1 #it count how many matches found\n",
    "            i = i + 1 \n",
    "    else: \n",
    "        while i < len(st2): \n",
    "            if st1[i] == st2[i]: \n",
    "                c = c + 1 \n",
    "            i = i + 1 \n",
    "    return c\n",
    "def main():\n",
    "    st1 = raw_input ('First string: ')\n",
    "    st2 = raw_input ('second string: ')\n",
    "    m = matches(st1,st2)\n",
    "    print m \n",
    "main() "
   ]
  },
  {
   "cell_type": "markdown",
   "metadata": {},
   "source": [
    "# Write a function called primes that is given a number n and returns a list of the first n primes. Let the default value of n be 100."
   ]
  },
  {
   "cell_type": "code",
   "execution_count": 19,
   "metadata": {},
   "outputs": [
    {
     "name": "stdout",
     "output_type": "stream",
     "text": [
      "Enter the value of n: 10\n",
      "List of first  10  prime numbers is:\n",
      "\n",
      "2\n",
      "3\n",
      "5\n",
      "7\n",
      "11\n",
      "13\n",
      "17\n",
      "19\n",
      "23\n",
      "29\n"
     ]
    }
   ],
   "source": [
    "import array #imporint array for using array operations\n",
    "arr = [ ]  \n",
    "def primes(n):\n",
    "    i = 1\n",
    "    k = 0\n",
    "    while k < n: \n",
    "        j = 2 \n",
    "        flag = 0\n",
    "        while j <= i: \n",
    "            if i % j == 0 and i != j:  \n",
    "                flag = 0 \n",
    "                break \n",
    "            else :\n",
    "                flag = 1 \n",
    "            j = j + 1 \n",
    "        if flag == 1: \n",
    "            arr.append(i) \n",
    "            k = k + 1 #it count how many prime number we get\n",
    "        i = i + 1 \n",
    "    return [arr,k] \n",
    "        \n",
    "def main():\n",
    "    i = 0\n",
    "    n = input ('Enter the value of n: ')\n",
    "    arr, k = primes(n)\n",
    "    print 'List of first ', n, ' prime numbers is:\\n'\n",
    "    while i < k: \n",
    "        print arr[i] \n",
    "        i = i + 1 \n",
    "main()  "
   ]
  },
  {
   "cell_type": "markdown",
   "metadata": {},
   "source": [
    "# Recall that if s is a string, then s.find( ' a ' ) will find the location of the first a in s . The problem is that it does not find the location of every a. Write a function called findall that given a string and a single character, returns a list containing all of the locations of that character in the string. It should return an empty list if there are no occurrences of the character in the string."
   ]
  },
  {
   "cell_type": "code",
   "execution_count": 18,
   "metadata": {},
   "outputs": [
    {
     "name": "stdout",
     "output_type": "stream",
     "text": [
      "Enter a string: bangladesh\n",
      "Enter a character: a\n",
      "2\n",
      "6\n"
     ]
    }
   ],
   "source": [
    "import array  #imporint array for using array operations\n",
    "arr = [] \n",
    "def Recall(string,char):  \n",
    "    i = 0\n",
    "    while i < len(string):  \n",
    "        if string[i] == char:  \n",
    "            arr.append(i+1)  #storing the index position where the string has that character\n",
    "        else :\n",
    "            arr.append(0)  #if string has not the character in a index it store 0\n",
    "        i = i + 1 \n",
    "    return [arr,i] \n",
    "def main():\n",
    "    i = 0\n",
    "    j = 0\n",
    "    flag = 0 \n",
    "    string = raw_input ('Enter a string: ') \n",
    "    char = raw_input ('Enter a character: ')\n",
    "    arr,m = Recall(string,char) \n",
    "    while j < m:  \n",
    "        if arr[j] > 0: \n",
    "            flag = 1  \n",
    "            break \n",
    "        j = j + 1 \n",
    "    while i < m: \n",
    "        if flag == 1: \n",
    "            if arr[i] > 0:  #if the searched character is in the string,it just show the positions where the character is\n",
    "                print arr[i] \n",
    "        else :\n",
    "            print arr[i]  #if there has no character which user searched, then it print a empty list with 0s\n",
    "        i = i + 1 \n",
    "main() "
   ]
  }
 ],
 "metadata": {
  "kernelspec": {
   "display_name": "Python 2",
   "language": "python",
   "name": "python2"
  },
  "language_info": {
   "codemirror_mode": {
    "name": "ipython",
    "version": 2
   },
   "file_extension": ".py",
   "mimetype": "text/x-python",
   "name": "python",
   "nbconvert_exporter": "python",
   "pygments_lexer": "ipython2",
   "version": "2.7.15"
  }
 },
 "nbformat": 4,
 "nbformat_minor": 2
}
